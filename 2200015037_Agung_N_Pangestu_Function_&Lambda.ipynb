{
  "nbformat": 4,
  "nbformat_minor": 0,
  "metadata": {
    "colab": {
      "provenance": [],
      "authorship_tag": "ABX9TyOdJacMCvD8y+QRfKIDrxL8",
      "include_colab_link": true
    },
    "kernelspec": {
      "name": "python3",
      "display_name": "Python 3"
    },
    "language_info": {
      "name": "python"
    }
  },
  "cells": [
    {
      "cell_type": "markdown",
      "metadata": {
        "id": "view-in-github",
        "colab_type": "text"
      },
      "source": [
        "<a href=\"https://colab.research.google.com/github/Agung-N-Pangestu/PSDS-6.0/blob/main/2200015037_Agung_N_Pangestu_Function_%26Lambda.ipynb\" target=\"_parent\"><img src=\"https://colab.research.google.com/assets/colab-badge.svg\" alt=\"Open In Colab\"/></a>"
      ]
    },
    {
      "cell_type": "markdown",
      "source": [
        "Nama : Agung Nugroho Pangestu\n",
        "\n",
        "NIM : 2200015037\n",
        "\n",
        "Tugas PSDS 6.0 : Function & Lambda"
      ],
      "metadata": {
        "id": "eBRlNGCr0Hw4"
      }
    },
    {
      "cell_type": "markdown",
      "source": [
        "FUNCTION"
      ],
      "metadata": {
        "id": "JFymAIym2wO3"
      }
    },
    {
      "cell_type": "markdown",
      "source": [
        "1. Buatlah sebuah fungsi untuk menghitung luas dan keliling lingkaran dengan input jari2!"
      ],
      "metadata": {
        "id": "FWEwQaNh0dN3"
      }
    },
    {
      "cell_type": "code",
      "source": [
        "def Luas_dan_Keliling_Lingkaran (r):\n",
        "    Luas = 3.14* r * r\n",
        "    Keliling = 3.14 * r * 2\n",
        "    return Luas, Keliling\n",
        "Luas, Keliling = Luas_dan_Keliling_Lingkaran(14) #misalkan jari-jarinya 14\n",
        "print(\"Luas:\", Luas)\n",
        "print(\"Keliling:\", Keliling)"
      ],
      "metadata": {
        "colab": {
          "base_uri": "https://localhost:8080/"
        },
        "id": "F77eT9JD0ms1",
        "outputId": "a33e2c3a-6ce2-46e4-c8ee-359d3b6ecbbe"
      },
      "execution_count": null,
      "outputs": [
        {
          "output_type": "stream",
          "name": "stdout",
          "text": [
            "Luas: 615.44\n",
            "Keliling: 87.92\n"
          ]
        }
      ]
    },
    {
      "cell_type": "markdown",
      "source": [
        "2. Buatlah sebuah fungsi untuk menggabungkan dua kata dalam bentuk string bebas menjadi satu kata tanpa spasi dengan huruf kecil!"
      ],
      "metadata": {
        "id": "ZbuCwHpk1Sjb"
      }
    },
    {
      "cell_type": "code",
      "source": [
        "def gabung_kata(kata_1, kata_2):\n",
        "    gabungan = (kata_1 + kata_2).lower()\n",
        "    return gabungan\n",
        "kata_1 = \"AGUNG\"\n",
        "kata_2 = \"PANGESTU\"\n",
        "hasil_gabung = gabung_kata(kata_1, kata_2)\n",
        "print(hasil_gabung)"
      ],
      "metadata": {
        "colab": {
          "base_uri": "https://localhost:8080/"
        },
        "id": "j4UGrcTi1Ynh",
        "outputId": "4be38c6b-2f11-43dd-80a1-42dd6a45d97f"
      },
      "execution_count": null,
      "outputs": [
        {
          "output_type": "stream",
          "name": "stdout",
          "text": [
            "agungpangestu\n"
          ]
        }
      ]
    },
    {
      "cell_type": "markdown",
      "source": [
        "3. Buatlah sebuah fungsi awal_akhir(list_input) untuk menukar elemen pertama pada sebuah list dengan elemen terakhir pada list yang sama!"
      ],
      "metadata": {
        "id": "aH5c9Od413P-"
      }
    },
    {
      "cell_type": "code",
      "source": [
        "def awal_akhir(list_input):\n",
        "    if len(list_input) < 2:\n",
        "        return list_input\n",
        "    list_input[0], list_input[-1] = list_input[-1], list_input[0]\n",
        "    return list_input\n",
        "my_list = [6,7,8,9,10]\n",
        "hasil_tukar = awal_akhir(my_list)\n",
        "print(hasil_tukar)"
      ],
      "metadata": {
        "colab": {
          "base_uri": "https://localhost:8080/"
        },
        "id": "zMwKCQcJ19G3",
        "outputId": "be15684b-b8b5-4a3b-9093-e7e525e12607"
      },
      "execution_count": null,
      "outputs": [
        {
          "output_type": "stream",
          "name": "stdout",
          "text": [
            "[10, 7, 8, 9, 6]\n"
          ]
        }
      ]
    },
    {
      "cell_type": "markdown",
      "source": [
        "LAMBDA"
      ],
      "metadata": {
        "id": "IirJRogN20TW"
      }
    },
    {
      "cell_type": "markdown",
      "source": [
        "1. Buatlah fungsi lambda untuk melakukan filter pada data range(n) untuk data-data yang berupa bilangan kelipatan 3!"
      ],
      "metadata": {
        "id": "jvpUmXW323dN"
      }
    },
    {
      "cell_type": "code",
      "source": [
        "n = 25\n",
        "Kelipatan_3 = lambda x : x%3 == 0\n",
        "list(filter(Kelipatan_3, range(n)))"
      ],
      "metadata": {
        "colab": {
          "base_uri": "https://localhost:8080/"
        },
        "id": "335nkl0t3VaY",
        "outputId": "7e4cf0b8-bf2e-4623-8491-77b42d3678d3"
      },
      "execution_count": null,
      "outputs": [
        {
          "output_type": "execute_result",
          "data": {
            "text/plain": [
              "[0, 3, 6, 9, 12, 15, 18, 21, 24]"
            ]
          },
          "metadata": {},
          "execution_count": 14
        }
      ]
    },
    {
      "cell_type": "markdown",
      "source": [
        "2. Buatlah fungsi lambda untuk memilih kata-kata dengan jumlah karakter lebih dari sama dengan 6 pada list inputnya."
      ],
      "metadata": {
        "id": "7ClkoWBX3fEc"
      }
    },
    {
      "cell_type": "code",
      "source": [
        "List_Kata = [\"gokil\", \"sungguh\", \"keren\", \"istimewa\", \"gila\", \"tugas\", \"wkwkwkwk\"]\n",
        "Kata_terpilih= list(filter(lambda kata: len(kata) >= 6, List_Kata))\n",
        "print(Kata_terpilih)"
      ],
      "metadata": {
        "colab": {
          "base_uri": "https://localhost:8080/"
        },
        "id": "POg978Bz3paq",
        "outputId": "347ceb91-9f41-443a-f23f-c8f83b30e59a"
      },
      "execution_count": null,
      "outputs": [
        {
          "output_type": "stream",
          "name": "stdout",
          "text": [
            "['sungguh', 'istimewa', 'wkwkwkwk']\n"
          ]
        }
      ]
    }
  ]
}